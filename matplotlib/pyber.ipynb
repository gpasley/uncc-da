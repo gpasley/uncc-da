{
 "cells": [
  {
   "cell_type": "code",
   "execution_count": 106,
   "metadata": {},
   "outputs": [
    {
     "data": {
      "text/html": [
       "<div>\n",
       "<style scoped>\n",
       "    .dataframe tbody tr th:only-of-type {\n",
       "        vertical-align: middle;\n",
       "    }\n",
       "\n",
       "    .dataframe tbody tr th {\n",
       "        vertical-align: top;\n",
       "    }\n",
       "\n",
       "    .dataframe thead th {\n",
       "        text-align: right;\n",
       "    }\n",
       "</style>\n",
       "<table border=\"1\" class=\"dataframe\">\n",
       "  <thead>\n",
       "    <tr style=\"text-align: right;\">\n",
       "      <th></th>\n",
       "      <th>city</th>\n",
       "      <th>driver_count</th>\n",
       "      <th>type</th>\n",
       "      <th>date</th>\n",
       "      <th>fare</th>\n",
       "      <th>ride_id</th>\n",
       "    </tr>\n",
       "  </thead>\n",
       "  <tbody>\n",
       "    <tr>\n",
       "      <th>1523</th>\n",
       "      <td>Amandaburgh</td>\n",
       "      <td>12</td>\n",
       "      <td>Urban</td>\n",
       "      <td>2018-01-11 02:22:07</td>\n",
       "      <td>29.24</td>\n",
       "      <td>7279902884763</td>\n",
       "    </tr>\n",
       "    <tr>\n",
       "      <th>1522</th>\n",
       "      <td>Amandaburgh</td>\n",
       "      <td>12</td>\n",
       "      <td>Urban</td>\n",
       "      <td>2018-02-10 20:42:46</td>\n",
       "      <td>36.17</td>\n",
       "      <td>6455620849753</td>\n",
       "    </tr>\n",
       "    <tr>\n",
       "      <th>1529</th>\n",
       "      <td>Amandaburgh</td>\n",
       "      <td>12</td>\n",
       "      <td>Urban</td>\n",
       "      <td>2018-03-13 12:52:31</td>\n",
       "      <td>13.88</td>\n",
       "      <td>6222134922674</td>\n",
       "    </tr>\n",
       "    <tr>\n",
       "      <th>1524</th>\n",
       "      <td>Amandaburgh</td>\n",
       "      <td>12</td>\n",
       "      <td>Urban</td>\n",
       "      <td>2018-01-21 04:12:54</td>\n",
       "      <td>9.26</td>\n",
       "      <td>5528427024492</td>\n",
       "    </tr>\n",
       "    <tr>\n",
       "      <th>1525</th>\n",
       "      <td>Amandaburgh</td>\n",
       "      <td>12</td>\n",
       "      <td>Urban</td>\n",
       "      <td>2018-04-19 16:30:12</td>\n",
       "      <td>6.27</td>\n",
       "      <td>4400632718421</td>\n",
       "    </tr>\n",
       "  </tbody>\n",
       "</table>\n",
       "</div>"
      ],
      "text/plain": [
       "             city  driver_count   type                 date   fare  \\\n",
       "1523  Amandaburgh            12  Urban  2018-01-11 02:22:07  29.24   \n",
       "1522  Amandaburgh            12  Urban  2018-02-10 20:42:46  36.17   \n",
       "1529  Amandaburgh            12  Urban  2018-03-13 12:52:31  13.88   \n",
       "1524  Amandaburgh            12  Urban  2018-01-21 04:12:54   9.26   \n",
       "1525  Amandaburgh            12  Urban  2018-04-19 16:30:12   6.27   \n",
       "\n",
       "            ride_id  \n",
       "1523  7279902884763  \n",
       "1522  6455620849753  \n",
       "1529  6222134922674  \n",
       "1524  5528427024492  \n",
       "1525  4400632718421  "
      ]
     },
     "execution_count": 106,
     "metadata": {},
     "output_type": "execute_result"
    }
   ],
   "source": [
    "%matplotlib inline\n",
    "# Dependencies and Setup\n",
    "import matplotlib.pyplot as plt\n",
    "import pandas as pd\n",
    "import numpy as np\n",
    "\n",
    "# File to Load (Remember to change these)\n",
    "city_data_to_load = \"data/city_data.csv\"\n",
    "ride_data_to_load = \"data/ride_data.csv\"\n",
    "\n",
    "# Read the City and Ride Data\n",
    "city_data = pd.read_csv(city_data_to_load)\n",
    "ride_data = pd.read_csv(ride_data_to_load)\n",
    "\n",
    "# Combine the data into a single dataset\n",
    "merge_table = pd.merge(city_data, ride_data, on=\"city\").sort_values(\"city\")\n",
    "\n",
    "# Display the data table for preview\n",
    "merge_table.head()"
   ]
  },
  {
   "cell_type": "code",
   "execution_count": null,
   "metadata": {
    "scrolled": true
   },
   "outputs": [],
   "source": []
  },
  {
   "cell_type": "markdown",
   "metadata": {},
   "source": [
    "## Bubble Plot of Ride Sharing Data"
   ]
  },
  {
   "cell_type": "code",
   "execution_count": 107,
   "metadata": {},
   "outputs": [
    {
     "data": {
      "text/html": [
       "<div>\n",
       "<style scoped>\n",
       "    .dataframe tbody tr th:only-of-type {\n",
       "        vertical-align: middle;\n",
       "    }\n",
       "\n",
       "    .dataframe tbody tr th {\n",
       "        vertical-align: top;\n",
       "    }\n",
       "\n",
       "    .dataframe thead th {\n",
       "        text-align: right;\n",
       "    }\n",
       "</style>\n",
       "<table border=\"1\" class=\"dataframe\">\n",
       "  <thead>\n",
       "    <tr style=\"text-align: right;\">\n",
       "      <th></th>\n",
       "      <th>driver_count</th>\n",
       "      <th>type</th>\n",
       "    </tr>\n",
       "    <tr>\n",
       "      <th>city</th>\n",
       "      <th></th>\n",
       "      <th></th>\n",
       "    </tr>\n",
       "  </thead>\n",
       "  <tbody>\n",
       "    <tr>\n",
       "      <th>Amandaburgh</th>\n",
       "      <td>12</td>\n",
       "      <td>Urban</td>\n",
       "    </tr>\n",
       "    <tr>\n",
       "      <th>Barajasview</th>\n",
       "      <td>26</td>\n",
       "      <td>Urban</td>\n",
       "    </tr>\n",
       "    <tr>\n",
       "      <th>Barronchester</th>\n",
       "      <td>11</td>\n",
       "      <td>Suburban</td>\n",
       "    </tr>\n",
       "    <tr>\n",
       "      <th>Bethanyland</th>\n",
       "      <td>22</td>\n",
       "      <td>Suburban</td>\n",
       "    </tr>\n",
       "    <tr>\n",
       "      <th>Bradshawfurt</th>\n",
       "      <td>7</td>\n",
       "      <td>Rural</td>\n",
       "    </tr>\n",
       "  </tbody>\n",
       "</table>\n",
       "</div>"
      ],
      "text/plain": [
       "               driver_count      type\n",
       "city                                 \n",
       "Amandaburgh              12     Urban\n",
       "Barajasview              26     Urban\n",
       "Barronchester            11  Suburban\n",
       "Bethanyland              22  Suburban\n",
       "Bradshawfurt              7     Rural"
      ]
     },
     "execution_count": 107,
     "metadata": {},
     "output_type": "execute_result"
    }
   ],
   "source": [
    "# Obtain the x and y coordinates for each of the three city types\n",
    "\n",
    "urban_cities = merge_table.loc[(merge_table[\"type\"] == 'Urban')]\n",
    "suburban_cities = merge_table.loc[(merge_table[\"type\"] == 'Suburban')]\n",
    "rural_cities = merge_table.loc[(merge_table[\"type\"] == 'Rural')]\n",
    "\n",
    "rides = merge_table.groupby([\"city\", \"type\"])[[\"ride_id\"]].count()\n",
    "urban_rides = urban_cities.groupby([\"city\", \"type\"])[[\"ride_id\"]].count()\n",
    "suburban_rides = suburban_cities.groupby([\"city\", \"type\"])[[\"ride_id\"]].count()\n",
    "rural_rides = rural_cities.groupby([\"city\", \"type\"])[[\"ride_id\"]].count()\n",
    "\n",
    "fares = merge_table.groupby([\"city\", \"type\"])[[\"fare\"]].mean()\n",
    "urban_fares = urban_cities.groupby([\"city\", \"type\"])[[\"fare\"]].mean()\n",
    "suburban_fares = suburban_cities.groupby([\"city\", \"type\"])[[\"fare\"]].mean()\n",
    "rural_fares = rural_cities.groupby([\"city\", \"type\"])[[\"fare\"]].mean()\n",
    "\n",
    "drivers = city_data.set_index('city').sort_values(\"city\")\n",
    "urban_drivers = city_data.loc[(city_data[\"type\"] == 'Urban')]\n",
    "suburban_drivers = city_data.loc[(city_data[\"type\"] == 'Suburban')]\n",
    "rural_drivers = city_data.loc[(city_data[\"type\"] == 'Rural')]\n",
    "\n",
    "drivers.head()"
   ]
  },
  {
   "cell_type": "code",
   "execution_count": 108,
   "metadata": {},
   "outputs": [
    {
     "data": {
      "image/png": "[encoded data removed]",
      "text/plain": [
       "<Figure size 432x288 with 1 Axes>"
      ]
     },
     "metadata": {
      "needs_background": "light"
     },
     "output_type": "display_data"
    }
   ],
   "source": [
    "# Build the scatter plots for each city types\n",
    "labels = [\"Urban\", \"Suburban\", \"Rural\"] \n",
    "colors = [\"gold\", \"lightskyblue\", \"lightcoral\"]\n",
    "\n",
    "u = plt.scatter(urban_rides[\"ride_id\"], urban_fares[\"fare\"], marker='o', color=colors[0], \n",
    "    s=urban_drivers[\"driver_count\"], alpha=0.8)\n",
    "s  = plt.scatter(suburban_rides[\"ride_id\"], suburban_fares[\"fare\"], marker='o', color=colors[1],\n",
    "    s=suburban_drivers[\"driver_count\"], alpha=0.8)\n",
    "r  = plt.scatter(rural_rides[\"ride_id\"], rural_fares[\"fare\"], marker='o', color=colors[2],\n",
    "    s=rural_drivers[\"driver_count\"], alpha=0.8)\n",
    "\n",
    "# Incorporate the other graph properties\n",
    "plt.title(\"Pyber Ride Sharing Data (2016)\")\n",
    "plt.xlabel(\"Total # of rides (per city)\")\n",
    "plt.ylabel(\"Avg fare($)\");\n",
    "\n",
    "# Create a legend\n",
    "\n",
    "plt.legend((u, s, r),\n",
    "           ('Urban', 'Suburban', 'Rural'),\n",
    "           scatterpoints=1,\n",
    "           loc='upper right',\n",
    "           fontsize=8, title=\"City Types\")\n",
    "# Incorporate a text label regarding circle size\n",
    "\n",
    "# Save Figure\n",
    "plt.savefig(\"images/scatter.png\")"
   ]
  },
  {
   "cell_type": "code",
   "execution_count": 109,
   "metadata": {},
   "outputs": [],
   "source": [
    "# Show plot\n",
    "plt.show()"
   ]
  },
  {
   "cell_type": "markdown",
   "metadata": {},
   "source": [
    "## Total Fares by City Type"
   ]
  },
  {
   "cell_type": "code",
   "execution_count": 110,
   "metadata": {},
   "outputs": [
    {
     "data": {
      "image/png": "[encoded data removed]",
      "text/plain": [
       "<Figure size 432x288 with 1 Axes>"
      ]
     },
     "metadata": {},
     "output_type": "display_data"
    }
   ],
   "source": [
    "\n",
    "explode = (0.1, 0, 0)\n",
    "# Calculate Type Percents\n",
    "\n",
    "total_urban_fares = urban_fares[\"fare\"].sum()\n",
    "total_suburban_fares = suburban_fares[\"fare\"].sum()\n",
    "total_rural_fares = rural_fares[\"fare\"].sum()\n",
    "\n",
    "type_fares = [total_urban_fares, total_suburban_fares, total_rural_fares]\n",
    "\n",
    "# Build Pie Chart\n",
    "\n",
    "plt.pie(type_fares, explode=explode, labels=labels, colors=colors,\n",
    "        autopct=\"%1.1f%%\", shadow=True, startangle=90)\n",
    "\n",
    "# Save Figure\n",
    "plt.savefig(\"images/fares.png\")"
   ]
  },
  {
   "cell_type": "code",
   "execution_count": 111,
   "metadata": {},
   "outputs": [],
   "source": [
    "# Show Figure\n",
    "plt.show()"
   ]
  },
  {
   "cell_type": "markdown",
   "metadata": {},
   "source": [
    "## Total Rides by City Type"
   ]
  },
  {
   "cell_type": "code",
   "execution_count": 112,
   "metadata": {},
   "outputs": [
    {
     "data": {
      "image/png": "[encoded data removed]",
      "text/plain": [
       "<Figure size 432x288 with 1 Axes>"
      ]
     },
     "metadata": {},
     "output_type": "display_data"
    }
   ],
   "source": [
    "# Calculate Ride Percents\n",
    "\n",
    "total_urban_rides = urban_rides[\"ride_id\"].count()\n",
    "total_suburban_rides = suburban_rides[\"ride_id\"].count()\n",
    "total_rural_rides = rural_rides[\"ride_id\"].count()\n",
    "\n",
    "type_rides = [total_urban_rides, total_suburban_rides, total_rural_rides]\n",
    "# Build Pie Chart\n",
    "\n",
    "plt.pie(type_rides, explode=explode, labels=labels, colors=colors,\n",
    "        autopct=\"%1.1f%%\", shadow=True, startangle=90)\n",
    "# Save Figure\n",
    "plt.savefig(\"images/rides.png\")"
   ]
  },
  {
   "cell_type": "code",
   "execution_count": 113,
   "metadata": {},
   "outputs": [],
   "source": [
    "# Show Figure\n",
    "plt.show()"
   ]
  },
  {
   "cell_type": "markdown",
   "metadata": {},
   "source": [
    "## Total Drivers by City Type"
   ]
  },
  {
   "cell_type": "code",
   "execution_count": 114,
   "metadata": {},
   "outputs": [
    {
     "data": {
      "image/png": "[encoded data removed]",
      "text/plain": [
       "<Figure size 432x288 with 1 Axes>"
      ]
     },
     "metadata": {},
     "output_type": "display_data"
    }
   ],
   "source": [
    "# Calculate Driver Percents\n",
    "\n",
    "total_urban_drivers = urban_drivers[\"driver_count\"].sum()\n",
    "total_suburban_drivers = suburban_drivers[\"driver_count\"].sum()\n",
    "total_rural_drivers = rural_drivers[\"driver_count\"].sum()\n",
    "\n",
    "type_drivers = [total_urban_drivers, total_suburban_drivers, total_rural_drivers]\n",
    "\n",
    "# Build Pie Charts\n",
    "plt.pie(type_drivers, explode=explode, labels=labels, colors=colors,\n",
    "        autopct=\"%1.1f%%\", shadow=True, startangle=90)\n",
    "# Save Figure\n",
    "plt.savefig(\"images/drivers.png\")"
   ]
  },
  {
   "cell_type": "code",
   "execution_count": 115,
   "metadata": {
    "scrolled": true
   },
   "outputs": [],
   "source": [
    "# Show Figure\n",
    "plt.show()"
   ]
  },
  {
   "cell_type": "code",
   "execution_count": null,
   "metadata": {},
   "outputs": [],
   "source": []
  },
  {
   "cell_type": "code",
   "execution_count": null,
   "metadata": {},
   "outputs": [],
   "source": []
  }
 ],
 "metadata": {
  "anaconda-cloud": {},
  "kernelspec": {
   "display_name": "Python 3",
   "language": "python",
   "name": "python3"
  },
  "language_info": {
   "codemirror_mode": {
    "name": "ipython",
    "version": 3
   },
   "file_extension": ".py",
   "mimetype": "text/x-python",
   "name": "python",
   "nbconvert_exporter": "python",
   "pygments_lexer": "ipython3",
   "version": "3.7.3"
  }
 },
 "nbformat": 4,
 "nbformat_minor": 2
}
